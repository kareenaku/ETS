{
  "nbformat": 4,
  "nbformat_minor": 0,
  "metadata": {
    "colab": {
      "provenance": []
    },
    "kernelspec": {
      "name": "python3",
      "display_name": "Python 3"
    },
    "language_info": {
      "name": "python"
    }
  },
  "cells": [
    {
      "cell_type": "code",
      "source": [
        "!pip install pyspark"
      ],
      "metadata": {
        "colab": {
          "base_uri": "https://localhost:8080/"
        },
        "id": "9PWsb4bsXcxk",
        "outputId": "0f044180-eb52-4e50-c830-c3e3b53b381c"
      },
      "execution_count": 2,
      "outputs": [
        {
          "output_type": "stream",
          "name": "stdout",
          "text": [
            "Looking in indexes: https://pypi.org/simple, https://us-python.pkg.dev/colab-wheels/public/simple/\n",
            "Collecting pyspark\n",
            "  Downloading pyspark-3.4.0.tar.gz (310.8 MB)\n",
            "\u001b[2K     \u001b[90m━━━━━━━━━━━━━━━━━━━━━━━━━━━━━━━━━━━━━━━\u001b[0m \u001b[32m310.8/310.8 MB\u001b[0m \u001b[31m3.6 MB/s\u001b[0m eta \u001b[36m0:00:00\u001b[0m\n",
            "\u001b[?25h  Preparing metadata (setup.py) ... \u001b[?25l\u001b[?25hdone\n",
            "Requirement already satisfied: py4j==0.10.9.7 in /usr/local/lib/python3.9/dist-packages (from pyspark) (0.10.9.7)\n",
            "Building wheels for collected packages: pyspark\n",
            "  Building wheel for pyspark (setup.py) ... \u001b[?25l\u001b[?25hdone\n",
            "  Created wheel for pyspark: filename=pyspark-3.4.0-py2.py3-none-any.whl size=311317145 sha256=bdda01cebf1b846d9fdd72f4f99ccaad9914164851eaa0306b6d4e36e1945414\n",
            "  Stored in directory: /root/.cache/pip/wheels/9f/34/a4/159aa12d0a510d5ff7c8f0220abbea42e5d81ecf588c4fd884\n",
            "Successfully built pyspark\n",
            "Installing collected packages: pyspark\n",
            "Successfully installed pyspark-3.4.0\n"
          ]
        }
      ]
    },
    {
      "cell_type": "code",
      "execution_count": 3,
      "metadata": {
        "id": "5nOwGDZnVZIq"
      },
      "outputs": [],
      "source": [
        "from pyspark.sql.functions import *\n",
        "from pyspark.sql.types import *\n",
        "from pyspark.sql.streaming import *"
      ]
    },
    {
      "cell_type": "code",
      "source": [
        "from pyspark.sql import SparkSession\n",
        "\n",
        "spark = SparkSession.builder \\\n",
        "    .appName(\"StreamingExample\") \\\n",
        "    .getOrCreate()"
      ],
      "metadata": {
        "id": "iY-ekQaSXQkU"
      },
      "execution_count": 5,
      "outputs": []
    },
    {
      "cell_type": "code",
      "source": [
        "print(spark)"
      ],
      "metadata": {
        "colab": {
          "base_uri": "https://localhost:8080/"
        },
        "id": "NJY22k25YSiP",
        "outputId": "a1babae8-51db-4abe-aa1b-db794d562cf5"
      },
      "execution_count": 7,
      "outputs": [
        {
          "output_type": "stream",
          "name": "stdout",
          "text": [
            "<pyspark.sql.session.SparkSession object at 0x7f04b5f75190>\n"
          ]
        }
      ]
    },
    {
      "cell_type": "code",
      "source": [
        "!pip install kaggle\n"
      ],
      "metadata": {
        "id": "LUHns5vGb8X-",
        "outputId": "d07a2a01-3143-449c-f1c0-ef60ff5dcb26",
        "colab": {
          "base_uri": "https://localhost:8080/"
        }
      },
      "execution_count": 8,
      "outputs": [
        {
          "output_type": "stream",
          "name": "stdout",
          "text": [
            "Looking in indexes: https://pypi.org/simple, https://us-python.pkg.dev/colab-wheels/public/simple/\n",
            "Requirement already satisfied: kaggle in /usr/local/lib/python3.9/dist-packages (1.5.13)\n",
            "Requirement already satisfied: urllib3 in /usr/local/lib/python3.9/dist-packages (from kaggle) (1.26.15)\n",
            "Requirement already satisfied: tqdm in /usr/local/lib/python3.9/dist-packages (from kaggle) (4.65.0)\n",
            "Requirement already satisfied: python-dateutil in /usr/local/lib/python3.9/dist-packages (from kaggle) (2.8.2)\n",
            "Requirement already satisfied: requests in /usr/local/lib/python3.9/dist-packages (from kaggle) (2.27.1)\n",
            "Requirement already satisfied: certifi in /usr/local/lib/python3.9/dist-packages (from kaggle) (2022.12.7)\n",
            "Requirement already satisfied: six>=1.10 in /usr/local/lib/python3.9/dist-packages (from kaggle) (1.16.0)\n",
            "Requirement already satisfied: python-slugify in /usr/local/lib/python3.9/dist-packages (from kaggle) (8.0.1)\n",
            "Requirement already satisfied: text-unidecode>=1.3 in /usr/local/lib/python3.9/dist-packages (from python-slugify->kaggle) (1.3)\n",
            "Requirement already satisfied: charset-normalizer~=2.0.0 in /usr/local/lib/python3.9/dist-packages (from requests->kaggle) (2.0.12)\n",
            "Requirement already satisfied: idna<4,>=2.5 in /usr/local/lib/python3.9/dist-packages (from requests->kaggle) (3.4)\n"
          ]
        }
      ]
    },
    {
      "cell_type": "code",
      "source": [
        "!mkdir ~/.kaggle/\n",
        "!touch ~/.kaggle/kaggle.json"
      ],
      "metadata": {
        "id": "uFoFYRYLcAyq"
      },
      "execution_count": 9,
      "outputs": []
    },
    {
      "cell_type": "code",
      "source": [
        "api_token = {\"username\":\"dickyindrakuncahyo\",\"key\":\"c7d0c46663f257110080794b3a2914bc\"}\n",
        "\n",
        "import json\n",
        "\n",
        "with open('/root/.kaggle/kaggle.json', 'w') as file:\n",
        "    json.dump(api_token, file)\n",
        "\n",
        "!chmod 600 ~/.kaggle/kaggle.json\n"
      ],
      "metadata": {
        "id": "QfmrktvUXU_X"
      },
      "execution_count": 10,
      "outputs": []
    },
    {
      "cell_type": "code",
      "source": [
        "!kaggle datasets download -d dickyindrakuncahyo/input-5025201250"
      ],
      "metadata": {
        "colab": {
          "base_uri": "https://localhost:8080/"
        },
        "id": "ePJ8CwUoXbGt",
        "outputId": "9fbd16b6-59a6-4baf-8064-0690ba9cbff4"
      },
      "execution_count": 14,
      "outputs": [
        {
          "output_type": "stream",
          "name": "stdout",
          "text": [
            "Downloading input-5025201250.zip to /content\n",
            "\r  0% 0.00/5.42k [00:00<?, ?B/s]\n",
            "\r100% 5.42k/5.42k [00:00<00:00, 4.23MB/s]\n"
          ]
        }
      ]
    },
    {
      "cell_type": "code",
      "source": [
        "!unzip input-5025201250.zip -d /input-5025201250"
      ],
      "metadata": {
        "id": "n2YieeJ8d0Qc",
        "outputId": "078e7494-8e02-477e-eb7f-9c1152673d31",
        "colab": {
          "base_uri": "https://localhost:8080/"
        }
      },
      "execution_count": 20,
      "outputs": [
        {
          "output_type": "stream",
          "name": "stdout",
          "text": [
            "Archive:  input-5025201250.zip\n",
            "checkdir:  cannot create extraction directory: path/to/input-5025201250\n",
            "           No such file or directory\n"
          ]
        }
      ]
    },
    {
      "cell_type": "code",
      "source": [
        "!ls -la"
      ],
      "metadata": {
        "id": "rUMOYA8MduOD",
        "outputId": "cd765e44-3efd-4599-cefa-1354bc81feea",
        "colab": {
          "base_uri": "https://localhost:8080/"
        }
      },
      "execution_count": 21,
      "outputs": [
        {
          "output_type": "stream",
          "name": "stdout",
          "text": [
            "total 44\n",
            "drwxr-xr-x 1 root root 4096 Apr 14 01:53 .\n",
            "drwxr-xr-x 1 root root 4096 Apr 14 01:55 ..\n",
            "drwxr-xr-x 4 root root 4096 Apr 12 13:33 .config\n",
            "-rw-r--r-- 1 root root 5545 Apr 14 01:52 input-5025201250.zip\n",
            "-rw-r--r-- 1 root root 2239 Apr 14 01:48 news-1.json\n",
            "-rw-r--r-- 1 root root 4320 Apr 14 01:48 news-2.json\n",
            "-rw-r--r-- 1 root root 5076 Apr 14 01:48 news-3.json\n",
            "drwxr-xr-x 1 root root 4096 Apr 12 13:34 sample_data\n"
          ]
        }
      ]
    },
    {
      "cell_type": "code",
      "source": [
        "input_path = \"/input-5025201250\"\n",
        "output_path = \"/output-5025201250\"\n",
        "\n",
        "df = spark \\\n",
        "  .readStream \\\n",
        "  .schema(StructType([\n",
        "      StructField(\"title\", StringType()),\n",
        "      StructField(\"content\", StringType()),\n",
        "      StructField(\"category\", StringType()),\n",
        "      StructField(\"publisher\", StringType())\n",
        "  ])) \\\n",
        "  .option(\"maxFilesPerTrigger\", 1) \\\n",
        "  .json(input_path)"
      ],
      "metadata": {
        "id": "VkD3_Z8_YJZd"
      },
      "execution_count": 23,
      "outputs": []
    },
    {
      "cell_type": "code",
      "source": [
        "df_processed = df \\\n",
        "  .withColumn(\"word_count\", size(split(col(\"content\"), \" \"))) \\\n",
        "  .withColumn(\"date\", current_date()) \\\n",
        "  .select(\"title\", \"category\", \"publisher\", \"word_count\", \"date\")"
      ],
      "metadata": {
        "id": "ofrU1r33YL9R"
      },
      "execution_count": 33,
      "outputs": []
    },
    {
      "cell_type": "code",
      "source": [
        "query = df_processed \\\n",
        "  .writeStream \\\n",
        "  .outputMode(\"append\") \\\n",
        "  .option(\"checkpointLocation\", \"/tmp/checkpoint\") \\\n",
        "  .option(\"path\", output_path) \\\n",
        "  .start()\n",
        "\n"
      ],
      "metadata": {
        "id": "HoVb0EY7fpvS"
      },
      "execution_count": 37,
      "outputs": []
    },
    {
      "cell_type": "code",
      "source": [
        "df_processed.printSchema()"
      ],
      "metadata": {
        "id": "xjsuFtplf726",
        "outputId": "e8ed0453-305c-4ad7-ee53-13d8da167442",
        "colab": {
          "base_uri": "https://localhost:8080/"
        }
      },
      "execution_count": 38,
      "outputs": [
        {
          "output_type": "stream",
          "name": "stdout",
          "text": [
            "root\n",
            " |-- title: string (nullable = true)\n",
            " |-- category: string (nullable = true)\n",
            " |-- publisher: string (nullable = true)\n",
            " |-- word_count: integer (nullable = false)\n",
            " |-- date: date (nullable = false)\n",
            "\n"
          ]
        }
      ]
    },
    {
      "cell_type": "code",
      "source": [
        "query.awaitTermination()"
      ],
      "metadata": {
        "id": "_bPSxRdxhK4Y"
      },
      "execution_count": null,
      "outputs": []
    }
  ]
}